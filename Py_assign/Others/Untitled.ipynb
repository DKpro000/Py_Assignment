{
 "cells": [
  {
   "cell_type": "code",
   "execution_count": null,
   "id": "3ce60db7-dfad-40a9-920f-8fd50d588c47",
   "metadata": {},
   "outputs": [],
   "source": [
    "import hashlib\n",
    "import base64\n",
    "import random\n",
    "\n",
    "class KeyExchange:\n",
    "    def __init__(self, g=5, p=97):\n",
    "        self.g = g\n",
    "        self.p = p\n",
    "        self.private = random.randint(1, 50)\n",
    "        self.public = pow(g, self.private, p)\n",
    "\n",
    "    def generate_shared_key(self, other_public):\n",
    "        shared_secret = pow(other_public, self.private, self.p)\n",
    "        return hashlib.sha256(str(shared_secret).encode()).digest()"
   ]
  },
  {
   "cell_type": "code",
   "execution_count": 1,
   "id": "ca9d5676-17f9-4954-8606-6fb0d90e39b7",
   "metadata": {},
   "outputs": [
    {
     "name": "stdout",
     "output_type": "stream",
     "text": [
      "b'K\"ww\\xd4\\xdd\\x1f\\xc6\\x1co\\x88OHd\\x1d\\x02\\xb4\\xd1!\\xd3\\xfd2\\x8c\\xb0\\x8bU1\\xfc\\xac\\xda\\xbf\\x8a'\n"
     ]
    }
   ],
   "source": [
    "import hashlib\n",
    "\n",
    "data = b'4'\n",
    "h = hashlib.sha256(data)\n",
    "\n",
    "print(h.digest())"
   ]
  },
  {
   "cell_type": "code",
   "execution_count": null,
   "id": "ed584280-f570-4324-8039-cb10c9489160",
   "metadata": {},
   "outputs": [],
   "source": []
  }
 ],
 "metadata": {
  "kernelspec": {
   "display_name": "Python 3 (ipykernel)",
   "language": "python",
   "name": "python3"
  },
  "language_info": {
   "codemirror_mode": {
    "name": "ipython",
    "version": 3
   },
   "file_extension": ".py",
   "mimetype": "text/x-python",
   "name": "python",
   "nbconvert_exporter": "python",
   "pygments_lexer": "ipython3",
   "version": "3.10.11"
  }
 },
 "nbformat": 4,
 "nbformat_minor": 5
}
